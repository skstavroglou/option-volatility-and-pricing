{
 "cells": [
  {
   "metadata": {
    "ExecuteTime": {
     "end_time": "2024-08-27T13:16:52.420134Z",
     "start_time": "2024-08-27T13:16:52.416485Z"
    }
   },
   "cell_type": "code",
   "source": [
    "import numpy as np\n",
    "import seaborn as sns\n",
    "import matplotlib.pyplot as plt"
   ],
   "id": "66977b6b5013ceec",
   "outputs": [],
   "execution_count": 1
  },
  {
   "metadata": {},
   "cell_type": "markdown",
   "source": "# CHAPTER 2: Forward Pricing",
   "id": "f41d97e5b107a2e2"
  },
  {
   "cell_type": "code",
   "id": "initial_id",
   "metadata": {
    "collapsed": true,
    "ExecuteTime": {
     "end_time": "2024-08-27T13:16:52.428986Z",
     "start_time": "2024-08-27T13:16:52.421642Z"
    }
   },
   "source": [
    "def forward_price_physical_commodity(C, t, r, s, i):\n",
    "    # C = commodity price\n",
    "    # t = time to maturity / 12 months\n",
    "    # r = interest rate\n",
    "    # s = annual storage costs per commodity unit\n",
    "    # i = annual insurance costs per commodity unit\n",
    "    return C * (1+r*t) + (s*t) + (i*t)\n",
    "\n",
    "def convenience_yield(F, t, r, s, i):\n",
    "    # F = forward price\n",
    "    # t = time to maturity / 12 months\n",
    "    # r = interest rate\n",
    "    # s = annual storage costs per commodity unit\n",
    "    # i = annual insurance costs per commodity unit\n",
    "    return (F-(s+i)*t) / (1+r*t)\n",
    "\n",
    "def forward_price_stock_interest_on_dividends(S, t, r, d_i, t_i, r_i):\n",
    "    # S = stock price\n",
    "    # t = time to maturity / 12 months\n",
    "    # r = interest rate over the life of the forward contract\n",
    "    # d_i = each dividend payment expected prior to maturity of the forward contract\n",
    "    # t_i = time remaining to maturity after each dividend payment\n",
    "    # r_i = the applicable interest rate (the forward rate) from each dividend payment to maturity of the forward contract\n",
    "    return S + (S*r*t) - np.sum(d_i * (1 + r_i + t_i))\n",
    "\n",
    "def forward_price_stock_no_interest_on_dividends(S, t, r, D):\n",
    "    # S = stock price\n",
    "    # t = time to maturity / 12 months\n",
    "    # r = interest rate over the life of the forward contract\n",
    "    # D = dividend payments aggregated\n",
    "    return S + (S*r*t) - np.sum(D)\n",
    "\n",
    "def forward_price_bond_or_note_interest_on_dividends(B, t, r, c_i, t_i, r_i):\n",
    "    # B = bond price\n",
    "    # t = time to maturity / 12 months\n",
    "    # r = interest rate over the life of the forward contract\n",
    "    # c_i = each coupon payment expected prior to maturity of the forward contract\n",
    "    # t_i = time remaining to maturity after each coupon payment\n",
    "    # r_i = the applicable interest rate (the forward rate) from each coupon payment to maturity of the forward contract\n",
    "    return (B * (1+r*t)) - np.sum(c_i * (1 + r_i * t_i))\n",
    "\n",
    "def forward_price_foreign_currency(C_d, C_f, r_d, r_f, t):\n",
    "    # C_d = domestic currency price\n",
    "    # C_f = foreign currency price\n",
    "    # r_d = domestic currency interest rate\n",
    "    # r_f = foreign currency interest rate\n",
    "    # t = time to maturity / 12 months\n",
    "    return (C_d/C_f) * ( (1+r_d*t) / (1+r_f*t) )\n",
    "\n",
    "def implied_spot_price_stock_or_future_option(F, D, r, t):\n",
    "    # F = forward price\n",
    "    # D = dividend payments aggregated\n",
    "    # r = interest rate\n",
    "    # t = time to maturity / 12 months\n",
    "    return (F + np.sum(D)) / (1+r*t)\n",
    "\n",
    "def implied_interest_rate_stock_or_future_option(F, D, S, t):\n",
    "    # F = forward price\n",
    "    # D = dividend payments aggregated\n",
    "    # S = stock spot price\n",
    "    # t = time to maturity / 12 months\n",
    "    return (((F + np.sum(D)) / S) - 1) / t\n",
    "\n",
    "def implied_dividend_stock_or_future_option(S, r, t, F):\n",
    "    # S = stock spot price\n",
    "    # r = interest rate\n",
    "    # t = time to maturity / 12 months\n",
    "    # F = forward price\n",
    "    return  (S * (1+r*t) ) - F"
   ],
   "outputs": [],
   "execution_count": 2
  },
  {
   "metadata": {},
   "cell_type": "code",
   "source": "convenience_yield(77.40,3/12,0.08,3.00,0.60)",
   "id": "267d7bb17c713113",
   "outputs": [],
   "execution_count": null
  },
  {
   "metadata": {},
   "cell_type": "code",
   "source": "forward_price_stock_interest_on_dividends(67.00, 8/12, 0.06, 0.33, np.array([7/12, 1/12]), np.array([0.062, 0.065]))",
   "id": "bbf569ef3281953c",
   "outputs": [],
   "execution_count": null
  },
  {
   "metadata": {},
   "cell_type": "code",
   "source": "forward_price_stock_no_interest_on_dividends(67.00, 8/12, 0.06, np.array([0.33, 0.33]))",
   "id": "3bdab24517b7f792",
   "outputs": [],
   "execution_count": null
  },
  {
   "metadata": {},
   "cell_type": "code",
   "source": "forward_price_bond_or_note_interest_on_dividends(109.76, 10/12, 0.08, 5.25, np.array([8/12, 2/12]), np.array([0.082, 0.085]))",
   "id": "70ad6173aec9c1e4",
   "outputs": [],
   "execution_count": null
  },
  {
   "metadata": {},
   "cell_type": "code",
   "source": "forward_price_foreign_currency(1.50, 1.00, 0.06, 0.04, 6/12)",
   "id": "28a32de07e009f00",
   "outputs": [],
   "execution_count": null
  },
  {
   "metadata": {},
   "cell_type": "code",
   "source": "implied_interest_rate_stock_or_future_option(69.50, np.array([0.66]), 67.00, 8/12)",
   "id": "e8d14e9f765ff111",
   "outputs": [],
   "execution_count": null
  },
  {
   "metadata": {},
   "cell_type": "code",
   "source": "implied_dividend_stock_or_future_option(67.00, 0.06, 8/12, 69.50)",
   "id": "4fc90e7e512d2e84",
   "outputs": [],
   "execution_count": null
  },
  {
   "metadata": {},
   "cell_type": "markdown",
   "source": "# CHAPTER 4: Expiration Profit and Loss",
   "id": "dcaa23a47eec36e6"
  },
  {
   "metadata": {
    "ExecuteTime": {
     "end_time": "2024-08-27T13:17:06.688994Z",
     "start_time": "2024-08-27T13:17:06.684842Z"
    }
   },
   "cell_type": "code",
   "source": [
    "def intrinsic_values_call_options(spot_prices, strike_price):\n",
    "    \"\"\"\n",
    "    Calculate the intrinsic values of a call option for a series of spot prices using optimized numpy operations.\n",
    "\n",
    "    Parameters:\n",
    "    spot_prices (np.array): Array of stock spot prices.\n",
    "    strike_price (float): Option strike price.\n",
    "\n",
    "    Returns:\n",
    "    np.array: Array of intrinsic values for each spot price.\n",
    "    \"\"\"\n",
    "    # Calculate the difference between spot prices and strike price\n",
    "    intrinsic_values = spot_prices - strike_price\n",
    "\n",
    "    # Use numpy's maximum function to apply the max(0, S - X) operation across the array\n",
    "    return np.maximum(intrinsic_values, 0)\n",
    "\n",
    "def intrinsic_values_put_options(spot_prices, strike_price):\n",
    "    \"\"\"\n",
    "    Calculate the intrinsic values of a put option for a series of spot prices using optimized numpy operations.\n",
    "\n",
    "    Parameters:\n",
    "    spot_prices (np.array): Array of stock spot prices.\n",
    "    strike_price (float): Option strike price.\n",
    "\n",
    "    Returns:\n",
    "    np.array: Array of intrinsic values for each spot price.\n",
    "    \"\"\"\n",
    "    # Calculate the difference between strike price and spot prices\n",
    "    intrinsic_values = strike_price - spot_prices\n",
    "\n",
    "    # Use numpy's maximum function to apply the max(0, X - S) operation across the array\n",
    "    return np.maximum(intrinsic_values, 0)"
   ],
   "id": "108107ac6fdac45d",
   "outputs": [],
   "execution_count": 3
  },
  {
   "metadata": {},
   "cell_type": "code",
   "source": "intrinsic_values_call_options(np.array([80, 85, 90, 95, 100, 105, 110, 115, 120, 125]), 95)",
   "id": "e7e252d18a21dee8",
   "outputs": [],
   "execution_count": null
  },
  {
   "metadata": {},
   "cell_type": "code",
   "source": "intrinsic_values_put_options(np.array([80, 85, 90, 95, 100, 105, 110, 115, 120, 125]), 110)",
   "id": "d45eefc6e7d0aa9e",
   "outputs": [],
   "execution_count": null
  },
  {
   "metadata": {},
   "cell_type": "markdown",
   "source": "## Figure 4-1 Plot Parity Graph for  Long Call",
   "id": "799039474fddf971"
  },
  {
   "metadata": {
    "ExecuteTime": {
     "end_time": "2024-08-27T13:17:16.992443Z",
     "start_time": "2024-08-27T13:17:16.987692Z"
    }
   },
   "cell_type": "code",
   "source": [
    "def plot_long_call_option_parity(spot_prices, strike_price):\n",
    "    \"\"\"\n",
    "    Plot the parity graph for a call option using seaborn.\n",
    "\n",
    "    Parameters:\n",
    "    spot_prices (np.array): Array of stock spot prices.\n",
    "    strike_price (float): Option strike price.\n",
    "    \n",
    "    Returns:\n",
    "    None: Displays the parity graph.\n",
    "    \"\"\"\n",
    "    # Calculate the intrinsic values using the optimized function\n",
    "    intrinsic_values = intrinsic_values_call_options(spot_prices, strike_price)\n",
    "\n",
    "    # Set up the seaborn style\n",
    "    sns.set(style=\"whitegrid\")\n",
    "\n",
    "    # Create the plot\n",
    "    plt.figure(figsize=(10, 6))\n",
    "\n",
    "    # Plot the intrinsic values\n",
    "    sns.lineplot(x=spot_prices, y=intrinsic_values, color=\"magenta\", label=\"Intrinsic Value\")\n",
    "\n",
    "    # Plot the red dashed vertical line at the strike price\n",
    "    plt.axvline(x=strike_price, color=\"orange\", linestyle=\"--\", label=f\"Strike Price = {strike_price}\")\n",
    "\n",
    "    # Draw the red line below the strike price (option has no value)\n",
    "    plt.plot([min(spot_prices), strike_price], [0, 0], color=\"magenta\", linewidth=2)\n",
    "\n",
    "    # Highlight the positive payoff region above the strike price\n",
    "    plt.fill_between(spot_prices, intrinsic_values, where=spot_prices >= strike_price, color=\"green\", alpha=0.3)\n",
    "\n",
    "    # Set labels and title\n",
    "    plt.xlabel(\"Underlying Price\")\n",
    "    plt.ylabel(\"Position Value\")\n",
    "    plt.title(\"Call Option Payoff Parity Graph\")\n",
    "    plt.legend()\n",
    "\n",
    "    # Show the plot\n",
    "    plt.show()"
   ],
   "id": "7d0042b95fe14d6",
   "outputs": [],
   "execution_count": 4
  },
  {
   "metadata": {},
   "cell_type": "code",
   "source": [
    "# Example usage:\n",
    "spot_prices = np.array([80, 85, 90, 95, 100])\n",
    "strike_price = 90\n",
    "plot_long_call_option_parity(spot_prices, strike_price)\n"
   ],
   "id": "9190d30eac84021",
   "outputs": [],
   "execution_count": null
  },
  {
   "metadata": {},
   "cell_type": "markdown",
   "source": "## Figure 4-2 Plot Parity Graph for Short Call",
   "id": "f86482d68ce4864a"
  },
  {
   "metadata": {
    "ExecuteTime": {
     "end_time": "2024-08-27T13:17:20.006089Z",
     "start_time": "2024-08-27T13:17:20.001195Z"
    }
   },
   "cell_type": "code",
   "source": [
    "def plot_short_call_option_parity(spot_prices, strike_price):\n",
    "    \"\"\"\n",
    "    Plot the parity graph for a short call option using seaborn.\n",
    "\n",
    "    Parameters:\n",
    "    spot_prices (np.array): Array of stock spot prices.\n",
    "    strike_price (float): Option strike price.\n",
    "    \n",
    "    Returns:\n",
    "    None: Displays the parity graph.\n",
    "    \"\"\"\n",
    "    # Calculate the intrinsic values using the optimized function for short call\n",
    "    intrinsic_values = -intrinsic_values_call_options(spot_prices, strike_price)\n",
    "\n",
    "    # Set up the seaborn style\n",
    "    sns.set(style=\"whitegrid\")\n",
    "\n",
    "    # Create the plot\n",
    "    plt.figure(figsize=(10, 6))\n",
    "\n",
    "    # Plot the intrinsic values for the short call\n",
    "    sns.lineplot(x=spot_prices, y=intrinsic_values, color=\"magenta\", label=\"Position Value (Short Call)\")\n",
    "\n",
    "    # Plot the orange dashed vertical line at the strike price\n",
    "    plt.axvline(x=strike_price, color=\"orange\", linestyle=\"--\", label=f\"Strike Price = {strike_price}\")\n",
    "\n",
    "    # Draw the magenta line below the strike price (option has no value)\n",
    "    plt.plot([min(spot_prices), strike_price], [0, 0], color=\"magenta\", linewidth=2)\n",
    "\n",
    "    # Highlight the negative payoff region above the strike price\n",
    "    plt.fill_between(spot_prices, intrinsic_values, where=spot_prices >= strike_price, color=\"red\", alpha=0.3)\n",
    "\n",
    "    # Set labels and title\n",
    "    plt.xlabel(\"Underlying Price\")\n",
    "    plt.ylabel(\"Position Value\")\n",
    "    plt.title(\"Short Call Option Payoff Parity Graph\")\n",
    "    plt.legend()\n",
    "\n",
    "    # Show the plot\n",
    "    plt.show()"
   ],
   "id": "d4afa2e55ff8e7e7",
   "outputs": [],
   "execution_count": 5
  },
  {
   "metadata": {},
   "cell_type": "code",
   "source": [
    "# Example usage:\n",
    "spot_prices = np.array([80, 85, 90, 95, 100])\n",
    "strike_price = 90\n",
    "plot_short_call_option_parity(spot_prices, strike_price)"
   ],
   "id": "608280534d5e77e6",
   "outputs": [],
   "execution_count": null
  },
  {
   "metadata": {},
   "cell_type": "markdown",
   "source": "## Figure 4-3 Plot Parity Graph for Long Put",
   "id": "cfacdb159a1b658"
  },
  {
   "metadata": {
    "ExecuteTime": {
     "end_time": "2024-08-27T13:17:21.788154Z",
     "start_time": "2024-08-27T13:17:21.782887Z"
    }
   },
   "cell_type": "code",
   "source": [
    "def plot_long_put_option_parity(spot_prices, strike_price):\n",
    "    \"\"\"\n",
    "    Plot the parity graph for a long put option using seaborn.\n",
    "\n",
    "    Parameters:\n",
    "    spot_prices (np.array): Array of stock spot prices.\n",
    "    strike_price (float): Option strike price.\n",
    "    \n",
    "    Returns:\n",
    "    None: Displays the parity graph.\n",
    "    \"\"\"\n",
    "    # Calculate the intrinsic values for the long put option\n",
    "    intrinsic_values = intrinsic_values_put_options(spot_prices, strike_price)\n",
    "\n",
    "    # Set up the seaborn style\n",
    "    sns.set(style=\"whitegrid\")\n",
    "\n",
    "    # Create the plot\n",
    "    plt.figure(figsize=(10, 6))\n",
    "\n",
    "    # Plot the intrinsic values for the long put\n",
    "    sns.lineplot(x=spot_prices, y=intrinsic_values, color=\"magenta\", label=\"Position Value (Long Put)\")\n",
    "\n",
    "    # Plot the orange dashed vertical line at the strike price\n",
    "    plt.axvline(x=strike_price, color=\"orange\", linestyle=\"--\", label=f\"Strike Price = {strike_price}\")\n",
    "\n",
    "    # Draw the blue line above the strike price (option has no value)\n",
    "    plt.plot([strike_price, max(spot_prices)], [0, 0], color=\"magenta\", linewidth=2)\n",
    "\n",
    "    # Highlight the positive payoff region below the strike price\n",
    "    plt.fill_between(spot_prices, intrinsic_values, where=spot_prices <= strike_price, color=\"green\", alpha=0.3)\n",
    "\n",
    "    # Set labels and title\n",
    "    plt.xlabel(\"Underlying Price\")\n",
    "    plt.ylabel(\"Position Value\")\n",
    "    plt.title(\"Long Put Option Payoff Parity Graph\")\n",
    "    plt.legend()\n",
    "\n",
    "    # Show the plot\n",
    "    plt.show()"
   ],
   "id": "323c09aad767c1d8",
   "outputs": [],
   "execution_count": 6
  },
  {
   "metadata": {},
   "cell_type": "code",
   "source": [
    "# Example usage:\n",
    "spot_prices = np.array([80, 85, 90, 95, 100])\n",
    "strike_price = 90\n",
    "plot_long_put_option_parity(spot_prices, strike_price)"
   ],
   "id": "7a721c235e604c6b",
   "outputs": [],
   "execution_count": null
  },
  {
   "metadata": {},
   "cell_type": "markdown",
   "source": "## Figure 4-4 Plot Parity Graph for Short Put",
   "id": "c3634906051e4bcf"
  },
  {
   "metadata": {
    "ExecuteTime": {
     "end_time": "2024-08-27T13:17:23.640557Z",
     "start_time": "2024-08-27T13:17:23.636118Z"
    }
   },
   "cell_type": "code",
   "source": [
    "def plot_short_put_option_parity(spot_prices, strike_price):\n",
    "    \"\"\"\n",
    "    Plot the parity graph for a short put option using seaborn.\n",
    "\n",
    "    Parameters:\n",
    "    spot_prices (np.array): Array of stock spot prices.\n",
    "    strike_price (float): Option strike price.\n",
    "    \n",
    "    Returns:\n",
    "    None: Displays the parity graph.\n",
    "    \"\"\"\n",
    "    # Calculate the intrinsic values for the short put option\n",
    "    intrinsic_values = -intrinsic_values_put_options(spot_prices, strike_price)\n",
    "\n",
    "    # Set up the seaborn style\n",
    "    sns.set(style=\"whitegrid\")\n",
    "\n",
    "    # Create the plot\n",
    "    plt.figure(figsize=(10, 6))\n",
    "\n",
    "    # Plot the intrinsic values for the short put\n",
    "    sns.lineplot(x=spot_prices, y=intrinsic_values, color=\"magenta\", label=\"Position Value (Short Put)\")\n",
    "\n",
    "    # Plot the orange dashed vertical line at the strike price\n",
    "    plt.axvline(x=strike_price, color=\"orange\", linestyle=\"--\", label=f\"Strike Price = {strike_price}\")\n",
    "\n",
    "    # Draw the magenta line above the strike price (option has no value)\n",
    "    plt.plot([strike_price, max(spot_prices)], [0, 0], color=\"magenta\", linewidth=2)\n",
    "\n",
    "    # Highlight the negative payoff region below the strike price\n",
    "    plt.fill_between(spot_prices, intrinsic_values, where=spot_prices <= strike_price, color=\"red\", alpha=0.3)\n",
    "\n",
    "    # Set labels and title\n",
    "    plt.xlabel(\"Underlying Price\")\n",
    "    plt.ylabel(\"Position Value\")\n",
    "    plt.title(\"Short Put Option Payoff Parity Graph\")\n",
    "    plt.legend()\n",
    "\n",
    "    # Show the plot\n",
    "    plt.show()"
   ],
   "id": "78de130aa81c55de",
   "outputs": [],
   "execution_count": 7
  },
  {
   "metadata": {},
   "cell_type": "code",
   "source": [
    "# Example usage:\n",
    "spot_prices = np.array([80, 85, 90, 95, 100])\n",
    "strike_price = 90\n",
    "plot_short_put_option_parity(spot_prices, strike_price)"
   ],
   "id": "925a039e3156b377",
   "outputs": [],
   "execution_count": null
  },
  {
   "metadata": {},
   "cell_type": "markdown",
   "source": "## Slope",
   "id": "5a1c2e015a801034"
  },
  {
   "metadata": {},
   "cell_type": "code",
   "source": [
    "spot_prices = np.array([80, 85, 90, 95, 100, 105, 110, 115, 120, 125])\n",
    "strike_price = 100"
   ],
   "id": "8ee9d30a14671cbd",
   "outputs": [],
   "execution_count": null
  },
  {
   "metadata": {},
   "cell_type": "code",
   "source": "intrinsic_values_call_options(spot_prices, strike_price)",
   "id": "33c61cfbb9f5d45b",
   "outputs": [],
   "execution_count": null
  },
  {
   "metadata": {},
   "cell_type": "code",
   "source": "-intrinsic_values_call_options(spot_prices, strike_price)",
   "id": "3c1d9baf77d73407",
   "outputs": [],
   "execution_count": null
  },
  {
   "metadata": {},
   "cell_type": "code",
   "source": "intrinsic_values_put_options(spot_prices, strike_price)",
   "id": "a1396a912d291dd2",
   "outputs": [],
   "execution_count": null
  },
  {
   "metadata": {},
   "cell_type": "code",
   "source": "-intrinsic_values_put_options(spot_prices, strike_price)",
   "id": "ee8b4950aa4ddacd",
   "outputs": [],
   "execution_count": null
  },
  {
   "metadata": {},
   "cell_type": "markdown",
   "source": "## Long an in-the-money call",
   "id": "7bebe47beecd6545"
  },
  {
   "metadata": {
    "ExecuteTime": {
     "end_time": "2024-08-27T13:17:27.103788Z",
     "start_time": "2024-08-27T13:17:27.100241Z"
    }
   },
   "cell_type": "code",
   "source": [
    "def long_call_slope(spot_prices, strike_price):\n",
    "    \"\"\"\n",
    "    Calculate the slope of a long in-the-money call option.\n",
    "\n",
    "    Parameters:\n",
    "    spot_prices (np.array): Array of spot prices (underlying prices).\n",
    "    strike_price (float): The strike price of the call option.\n",
    "\n",
    "    Returns:\n",
    "    (np.array): The slope of the long call option.\n",
    "    \"\"\"\n",
    "    # Calculate the intrinsic values for the call option\n",
    "    intrinsic_values = intrinsic_values_call_options(spot_prices, strike_price)\n",
    "\n",
    "    # Calculate the slope using the differences between consecutive in-the-money points\n",
    "    slope = np.diff(intrinsic_values) / np.diff(spot_prices)\n",
    "\n",
    "    # Return the slope, which should be consistent across the in-the-money region\n",
    "    return slope"
   ],
   "id": "a77056907f3603cf",
   "outputs": [],
   "execution_count": 8
  },
  {
   "metadata": {},
   "cell_type": "code",
   "source": [
    "# Example usage:\n",
    "spot_prices = np.array([80, 85, 90, 95, 100, 105, 110, 115, 120, 125])\n",
    "strike_price = 110\n",
    "long_call_slope(spot_prices, strike_price)"
   ],
   "id": "92c9c16a88e879ae",
   "outputs": [],
   "execution_count": null
  },
  {
   "metadata": {},
   "cell_type": "markdown",
   "source": "## Short an in-the-money call",
   "id": "21137c73ee06fd65"
  },
  {
   "metadata": {
    "ExecuteTime": {
     "end_time": "2024-08-27T13:17:32.248280Z",
     "start_time": "2024-08-27T13:17:32.244607Z"
    }
   },
   "cell_type": "code",
   "source": [
    "def short_call_slope(spot_prices, strike_price):\n",
    "    \"\"\"\n",
    "    Calculate the slope of a short in-the-money call option.\n",
    "\n",
    "    Parameters:\n",
    "    spot_prices (np.array): Array of spot prices (underlying prices).\n",
    "    strike_price (float): The strike price of the call option.\n",
    "\n",
    "    Returns:\n",
    "    (np.array): The slope of the short call option.\n",
    "    \"\"\"\n",
    "    # Calculate the intrinsic values for the call option\n",
    "    intrinsic_values = -intrinsic_values_call_options(spot_prices, strike_price)\n",
    "\n",
    "    # Calculate the slope using the differences between consecutive in-the-money points\n",
    "    slope = np.diff(intrinsic_values) / np.diff(spot_prices)\n",
    "\n",
    "    # Return the slope, which should be consistent across the in-the-money region\n",
    "    return slope"
   ],
   "id": "6ebc5c4856200af3",
   "outputs": [],
   "execution_count": 9
  },
  {
   "metadata": {},
   "cell_type": "code",
   "source": [
    "# Example usage:\n",
    "spot_prices = np.array([80, 85, 90, 95, 100, 105, 110, 115, 120, 125])\n",
    "strike_price = 110\n",
    "short_call_slope(spot_prices, strike_price)"
   ],
   "id": "a86df79f309c8202",
   "outputs": [],
   "execution_count": null
  },
  {
   "metadata": {},
   "cell_type": "markdown",
   "source": "## Long an in-the-money put",
   "id": "3d985625f9a610ce"
  },
  {
   "metadata": {
    "ExecuteTime": {
     "end_time": "2024-08-27T13:17:37.841186Z",
     "start_time": "2024-08-27T13:17:37.837176Z"
    }
   },
   "cell_type": "code",
   "source": [
    "def long_put_slope(spot_prices, strike_price):\n",
    "    \"\"\"\n",
    "    Calculate the slope of a long in-the-money put option.\n",
    "\n",
    "    Parameters:\n",
    "    spot_prices (np.array): Array of spot prices (underlying prices).\n",
    "    strike_price (float): The strike price of the put option.\n",
    "\n",
    "    Returns:\n",
    "    (np.array): The slope of the long put option.\n",
    "    \"\"\"\n",
    "    # Calculate the intrinsic values for the put option\n",
    "    intrinsic_values = intrinsic_values_put_options(spot_prices, strike_price)\n",
    "\n",
    "    # Calculate the slope using the differences between consecutive in-the-money points\n",
    "    slope = np.diff(intrinsic_values) / np.diff(spot_prices)\n",
    "\n",
    "    # Return the slope, which should be consistent across the in-the-money region\n",
    "    return slope"
   ],
   "id": "c2c834363585db03",
   "outputs": [],
   "execution_count": 10
  },
  {
   "metadata": {},
   "cell_type": "code",
   "source": [
    "# Example usage:\n",
    "spot_prices = np.array([80, 85, 90, 95, 100, 105, 110, 115, 120, 125])\n",
    "strike_price = 110\n",
    "long_put_slope(spot_prices, strike_price)"
   ],
   "id": "1806d4944c78372b",
   "outputs": [],
   "execution_count": null
  },
  {
   "metadata": {},
   "cell_type": "markdown",
   "source": "## Short an in-the-money put",
   "id": "dadbdd4bea7961cf"
  },
  {
   "metadata": {
    "ExecuteTime": {
     "end_time": "2024-08-27T13:17:43.245296Z",
     "start_time": "2024-08-27T13:17:43.241551Z"
    }
   },
   "cell_type": "code",
   "source": [
    "def short_put_slope(spot_prices, strike_price):\n",
    "    \"\"\"\n",
    "    Calculate the slope of a short in-the-money put option.\n",
    "\n",
    "    Parameters:\n",
    "    spot_prices (np.array): Array of spot prices (underlying prices).\n",
    "    strike_price (float): The strike price of the put option.\n",
    "\n",
    "    Returns:\n",
    "    (np.array): The slope of the short put option.\n",
    "    \"\"\"\n",
    "    # Calculate the intrinsic values for the put option\n",
    "    intrinsic_values = -intrinsic_values_put_options(spot_prices, strike_price)\n",
    "\n",
    "    # Calculate the slope using the differences between consecutive in-the-money points\n",
    "    slope = np.diff(intrinsic_values) / np.diff(spot_prices)\n",
    "\n",
    "    # Return the slope, which should be consistent across the in-the-money region\n",
    "    return slope"
   ],
   "id": "1177dd4399486be2",
   "outputs": [],
   "execution_count": 11
  },
  {
   "metadata": {},
   "cell_type": "code",
   "source": [
    "# Example usage:\n",
    "spot_prices = np.array([80, 85, 90, 95, 100, 105, 110, 115, 120, 125])\n",
    "strike_price = 110\n",
    "short_put_slope(spot_prices, strike_price)"
   ],
   "id": "8cbe035c063a9fa2",
   "outputs": [],
   "execution_count": null
  },
  {
   "metadata": {},
   "cell_type": "markdown",
   "source": "## Example Position Figure 4-9",
   "id": "d87dc73df4418031"
  },
  {
   "metadata": {
    "ExecuteTime": {
     "end_time": "2024-08-27T13:47:39.732857Z",
     "start_time": "2024-08-27T13:47:39.727519Z"
    }
   },
   "cell_type": "code",
   "source": [
    "spot_prices = np.array([60, 65, 70, 75, 80, 85])\n",
    "(3*long_call_slope(spot_prices, 65) \n",
    "+2*long_put_slope(spot_prices, 65)\n",
    "+2*long_call_slope(spot_prices, 70) \n",
    "+4*short_put_slope(spot_prices, 70)\n",
    "+6*short_call_slope(spot_prices, 75)\n",
    "+3*long_put_slope(spot_prices, 75)\n",
    "+4*long_call_slope(spot_prices, 80)\n",
    "+2*short_put_slope(spot_prices, 80)\n",
    "+np.array([-4., -4. , -4., -4., -4.]))"
   ],
   "id": "b7ed06ab2f28e807",
   "outputs": [
    {
     "data": {
      "text/plain": [
       "array([-3.,  2.,  0., -3., -1.])"
      ]
     },
     "execution_count": 53,
     "metadata": {},
     "output_type": "execute_result"
    }
   ],
   "execution_count": 53
  },
  {
   "metadata": {},
   "cell_type": "markdown",
   "source": "## Expiration Profit and Loss",
   "id": "b6630e6d6d113500"
  },
  {
   "metadata": {
    "ExecuteTime": {
     "end_time": "2024-08-27T13:50:14.135151Z",
     "start_time": "2024-08-27T13:50:14.130074Z"
    }
   },
   "cell_type": "code",
   "source": [
    "def aggregate_slopes(spot_prices, strike_prices, contract_type, contract_amounts, underlying_contracts):\n",
    "    \"\"\"\n",
    "    Calculate the aggregate slopes for a portfolio of options and underlying contracts.\n",
    "\n",
    "    Parameters:\n",
    "    - spot_prices (np.array): Array of current spot prices for the underlying asset.\n",
    "    - strike_prices (np.array): Array of strike prices corresponding to each contract.\n",
    "    - contract_type (np.array): Array of strings indicating the type of each contract.\n",
    "                                Expected values are \"long-call\", \"long-put\", \"short-call\", \"short-put\".\n",
    "    - contract_amounts (np.array): Array of integers indicating the number of contracts for each option.\n",
    "    - underlying_contracts (int or float): The number of underlying contracts (positive for long, negative for short).\n",
    "\n",
    "    Returns:\n",
    "    - total_slopes (np.array): The aggregated slopes for the portfolio, based on the given contracts and underlying positions.\n",
    "    \"\"\"\n",
    "\n",
    "    # Initialize an array for the aggregate slopes, excluding the last element of spot_prices\n",
    "    # This assumes that we do not want to calculate the slope for the last spot price\n",
    "    total_slopes = np.zeros_like(spot_prices[:-1], dtype=float)\n",
    "\n",
    "    # Create a dictionary to map contract types to their respective slope functions\n",
    "    # This allows for dynamic selection of the correct function based on contract_type\n",
    "    slope_functions = {\n",
    "        \"long-call\": long_call_slope,\n",
    "        \"long-put\": long_put_slope,\n",
    "        \"short-call\": short_call_slope,\n",
    "        \"short-put\": short_put_slope\n",
    "    }\n",
    "\n",
    "    # Iterate over each contract in the portfolio\n",
    "    # zip() is used to loop over strike_prices, contract_type, and contract_amounts in parallel\n",
    "    for strike, ctype, amount in zip(strike_prices, contract_type, contract_amounts):\n",
    "        # Retrieve the appropriate slope function based on the contract type\n",
    "        slope_func = slope_functions[ctype]\n",
    "\n",
    "        # Calculate the slope for the current spot prices and strike price\n",
    "        # This returns an array of slopes, one for each spot price\n",
    "        slopes = slope_func(spot_prices, strike)\n",
    "\n",
    "        # Add the calculated slopes to the total slopes, scaled by the number of contracts\n",
    "        total_slopes += amount * slopes\n",
    "\n",
    "    # Add the effect of the underlying contracts to the total slopes\n",
    "    # The underlying contracts are considered to apply equally across all spot prices (except the last)\n",
    "    total_slopes += underlying_contracts * np.ones_like(spot_prices[:-1])\n",
    "\n",
    "    return total_slopes"
   ],
   "id": "bc96870ce464bae",
   "outputs": [],
   "execution_count": 59
  },
  {
   "metadata": {
    "ExecuteTime": {
     "end_time": "2024-08-27T13:50:14.771596Z",
     "start_time": "2024-08-27T13:50:14.768264Z"
    }
   },
   "cell_type": "code",
   "source": [
    "# Example usage\n",
    "spot_prices = np.array([60, 65, 70, 75, 80, 85])\n",
    "strike_prices = np.array([65, 65, 70, 70, 75, 75, 80, 80])\n",
    "contract_type = np.array([\"long-call\", \"long-put\", \"long-call\", \"short-put\", \"short-call\", \"long-put\", \"long-call\", \"short-put\"])\n",
    "contract_amounts = np.array([3, 2, 2, 4, 6, 3, 4, 2])\n",
    "underlying_contracts = -4"
   ],
   "id": "c4d004d83aaf49d6",
   "outputs": [],
   "execution_count": 60
  },
  {
   "metadata": {
    "ExecuteTime": {
     "end_time": "2024-08-27T13:50:15.268523Z",
     "start_time": "2024-08-27T13:50:15.263781Z"
    }
   },
   "cell_type": "code",
   "source": [
    "# Calculate the aggregate slopes\n",
    "slopes = aggregate_slopes(spot_prices, strike_prices, contract_type, contract_amounts, underlying_contracts)\n",
    "print(slopes)"
   ],
   "id": "bec5f128783c025a",
   "outputs": [
    {
     "name": "stdout",
     "output_type": "stream",
     "text": [
      "[-3.  2.  0. -3. -1.]\n"
     ]
    }
   ],
   "execution_count": 61
  },
  {
   "metadata": {
    "ExecuteTime": {
     "end_time": "2024-08-27T13:50:16.348405Z",
     "start_time": "2024-08-27T13:50:16.342658Z"
    }
   },
   "cell_type": "code",
   "source": [
    "def plot_parity_graph_with_slopes(spot_prices, slopes):\n",
    "    \"\"\"\n",
    "    Plot the parity graph using spot prices and slopes.\n",
    "\n",
    "    Parameters:\n",
    "    spot_prices (np.array): Array of spot prices (underlying prices).\n",
    "    slopes (np.array): Array of slopes corresponding to intervals between spot prices.\n",
    "    \n",
    "    Returns:\n",
    "    None: Displays the parity graph.\n",
    "    \"\"\"\n",
    "    # Initialize the position values with the first value being zero\n",
    "    position_values = [0]\n",
    "\n",
    "    # Calculate the position values based on slopes and spot prices\n",
    "    for i in range(len(slopes)):\n",
    "        # Calculate the change in position value using the slope\n",
    "        change_in_position = slopes[i] * (spot_prices[i+1] - spot_prices[i])\n",
    "        # Append the new position value\n",
    "        position_values.append(position_values[-1] + change_in_position)\n",
    "\n",
    "    # Convert position_values to a numpy array for plotting\n",
    "    position_values = np.array(position_values)\n",
    "\n",
    "    # Set up the seaborn style\n",
    "    sns.set(style=\"whitegrid\")\n",
    "\n",
    "    # Create the plot\n",
    "    plt.figure(figsize=(10, 6))\n",
    "\n",
    "    # Plot the parity graph\n",
    "    sns.lineplot(x=spot_prices, y=position_values, marker=\"o\", color=\"magenta\", label=\"Position Value\")\n",
    "\n",
    "    # Annotate the slopes on the plot\n",
    "    for i in range(len(slopes)):\n",
    "        mid_point = (spot_prices[i] + spot_prices[i+1]) / 2\n",
    "        plt.text(mid_point, (position_values[i] + position_values[i+1]) / 2, f\"Slope = {slopes[i]:.1f}\",\n",
    "                 ha='center', va='center', fontsize=9, bbox=dict(facecolor='white', edgecolor='black', boxstyle='round,pad=0.3'))\n",
    "\n",
    "    # Set labels and title\n",
    "    plt.xlabel(\"Underlying Price\")\n",
    "    plt.ylabel(\"Position Value\")\n",
    "    plt.title(\"Parity Graph with Slopes\")\n",
    "    plt.legend()\n",
    "\n",
    "    # Show the plot\n",
    "    plt.show()"
   ],
   "id": "a049332fcf901b9b",
   "outputs": [],
   "execution_count": 62
  },
  {
   "metadata": {
    "ExecuteTime": {
     "end_time": "2024-08-27T13:50:17.950149Z",
     "start_time": "2024-08-27T13:50:17.828919Z"
    }
   },
   "cell_type": "code",
   "source": "plot_parity_graph_with_slopes(spot_prices, slopes)",
   "id": "f1aabad310065cc3",
   "outputs": [
    {
     "data": {
      "text/plain": [
       "<Figure size 1000x600 with 1 Axes>"
      ],
      "image/png": "[encoded data removed]"
     },
     "metadata": {},
     "output_type": "display_data"
    }
   ],
   "execution_count": 63
  },
  {
   "metadata": {},
   "cell_type": "code",
   "outputs": [],
   "execution_count": null,
   "source": "",
   "id": "42c0b49c4f47acf1"
  }
 ],
 "metadata": {
  "kernelspec": {
   "display_name": "Python 3",
   "language": "python",
   "name": "python3"
  },
  "language_info": {
   "codemirror_mode": {
    "name": "ipython",
    "version": 2
   },
   "file_extension": ".py",
   "mimetype": "text/x-python",
   "name": "python",
   "nbconvert_exporter": "python",
   "pygments_lexer": "ipython2",
   "version": "2.7.6"
  }
 },
 "nbformat": 4,
 "nbformat_minor": 5
}
