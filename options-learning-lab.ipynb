{
 "cells": [
  {
   "metadata": {
    "ExecuteTime": {
     "end_time": "2024-08-26T11:10:18.582287Z",
     "start_time": "2024-08-26T11:10:18.579282Z"
    }
   },
   "cell_type": "code",
   "source": [
    "import numpy as np\n",
    "import seaborn as sns\n",
    "import matplotlib.pyplot as plt"
   ],
   "id": "66977b6b5013ceec",
   "outputs": [],
   "execution_count": 1
  },
  {
   "metadata": {},
   "cell_type": "markdown",
   "source": "# CHAPTER 2: Forward Pricing",
   "id": "f41d97e5b107a2e2"
  },
  {
   "cell_type": "code",
   "id": "initial_id",
   "metadata": {
    "collapsed": true,
    "ExecuteTime": {
     "end_time": "2024-08-26T11:10:21.548026Z",
     "start_time": "2024-08-26T11:10:21.541812Z"
    }
   },
   "source": [
    "def forward_price_physical_commodity(C, t, r, s, i):\n",
    "    # C = commodity price\n",
    "    # t = time to maturity / 12 months\n",
    "    # r = interest rate\n",
    "    # s = annual storage costs per commodity unit\n",
    "    # i = annual insurance costs per commodity unit\n",
    "    return C * (1+r*t) + (s*t) + (i*t)\n",
    "\n",
    "def convenience_yield(F, t, r, s, i):\n",
    "    # F = forward price\n",
    "    # t = time to maturity / 12 months\n",
    "    # r = interest rate\n",
    "    # s = annual storage costs per commodity unit\n",
    "    # i = annual insurance costs per commodity unit\n",
    "    return (F-(s+i)*t) / (1+r*t)\n",
    "\n",
    "def forward_price_stock_interest_on_dividends(S, t, r, d_i, t_i, r_i):\n",
    "    # S = stock price\n",
    "    # t = time to maturity / 12 months\n",
    "    # r = interest rate over the life of the forward contract\n",
    "    # d_i = each dividend payment expected prior to maturity of the forward contract\n",
    "    # t_i = time remaining to maturity after each dividend payment\n",
    "    # r_i = the applicable interest rate (the forward rate) from each dividend payment to maturity of the forward contract\n",
    "    return S + (S*r*t) - np.sum(d_i * (1 + r_i + t_i))\n",
    "\n",
    "def forward_price_stock_no_interest_on_dividends(S, t, r, D):\n",
    "    # S = stock price\n",
    "    # t = time to maturity / 12 months\n",
    "    # r = interest rate over the life of the forward contract\n",
    "    # D = dividend payments aggregated\n",
    "    return S + (S*r*t) - np.sum(D)\n",
    "\n",
    "def forward_price_bond_or_note_interest_on_dividends(B, t, r, c_i, t_i, r_i):\n",
    "    # B = bond price\n",
    "    # t = time to maturity / 12 months\n",
    "    # r = interest rate over the life of the forward contract\n",
    "    # c_i = each coupon payment expected prior to maturity of the forward contract\n",
    "    # t_i = time remaining to maturity after each coupon payment\n",
    "    # r_i = the applicable interest rate (the forward rate) from each coupon payment to maturity of the forward contract\n",
    "    return (B * (1+r*t)) - np.sum(c_i * (1 + r_i * t_i))\n",
    "\n",
    "def forward_price_foreign_currency(C_d, C_f, r_d, r_f, t):\n",
    "    # C_d = domestic currency price\n",
    "    # C_f = foreign currency price\n",
    "    # r_d = domestic currency interest rate\n",
    "    # r_f = foreign currency interest rate\n",
    "    # t = time to maturity / 12 months\n",
    "    return (C_d/C_f) * ( (1+r_d*t) / (1+r_f*t) )\n",
    "\n",
    "def implied_spot_price_stock_or_future_option(F, D, r, t):\n",
    "    # F = forward price\n",
    "    # D = dividend payments aggregated\n",
    "    # r = interest rate\n",
    "    # t = time to maturity / 12 months\n",
    "    return (F + np.sum(D)) / (1+r*t)\n",
    "\n",
    "def implied_interest_rate_stock_or_future_option(F, D, S, t):\n",
    "    # F = forward price\n",
    "    # D = dividend payments aggregated\n",
    "    # S = stock spot price\n",
    "    # t = time to maturity / 12 months\n",
    "    return (((F + np.sum(D)) / S) - 1) / t\n",
    "\n",
    "def implied_dividend_stock_or_future_option(S, r, t, F):\n",
    "    # S = stock spot price\n",
    "    # r = interest rate\n",
    "    # t = time to maturity / 12 months\n",
    "    # F = forward price\n",
    "    return  (S * (1+r*t) ) - F"
   ],
   "outputs": [],
   "execution_count": 2
  },
  {
   "metadata": {
    "ExecuteTime": {
     "end_time": "2024-08-22T22:33:44.592320Z",
     "start_time": "2024-08-22T22:33:44.587204Z"
    }
   },
   "cell_type": "code",
   "source": "convenience_yield(77.40,3/12,0.08,3.00,0.60)",
   "id": "267d7bb17c713113",
   "outputs": [
    {
     "data": {
      "text/plain": [
       "75.0"
      ]
     },
     "execution_count": 23,
     "metadata": {},
     "output_type": "execute_result"
    }
   ],
   "execution_count": 23
  },
  {
   "metadata": {
    "ExecuteTime": {
     "end_time": "2024-08-22T21:57:27.398692Z",
     "start_time": "2024-08-22T21:57:27.393493Z"
    }
   },
   "cell_type": "code",
   "source": "forward_price_stock_interest_on_dividends(67.00, 8/12, 0.06, 0.33, np.array([7/12, 1/12]), np.array([0.062, 0.065]))",
   "id": "bbf569ef3281953c",
   "outputs": [
    {
     "data": {
      "text/plain": [
       "68.75809000000001"
      ]
     },
     "execution_count": 14,
     "metadata": {},
     "output_type": "execute_result"
    }
   ],
   "execution_count": 14
  },
  {
   "metadata": {
    "ExecuteTime": {
     "end_time": "2024-08-22T22:00:21.997729Z",
     "start_time": "2024-08-22T22:00:21.992983Z"
    }
   },
   "cell_type": "code",
   "source": "forward_price_stock_no_interest_on_dividends(67.00, 8/12, 0.06, np.array([0.33, 0.33]))",
   "id": "3bdab24517b7f792",
   "outputs": [
    {
     "data": {
      "text/plain": [
       "69.02000000000001"
      ]
     },
     "execution_count": 17,
     "metadata": {},
     "output_type": "execute_result"
    }
   ],
   "execution_count": 17
  },
  {
   "metadata": {
    "ExecuteTime": {
     "end_time": "2024-08-22T22:27:51.925093Z",
     "start_time": "2024-08-22T22:27:51.918735Z"
    }
   },
   "cell_type": "code",
   "source": "forward_price_bond_or_note_interest_on_dividends(109.76, 10/12, 0.08, 5.25, np.array([8/12, 2/12]), np.array([0.082, 0.085]))",
   "id": "70ad6173aec9c1e4",
   "outputs": [
    {
     "data": {
      "text/plain": [
       "106.21595833333335"
      ]
     },
     "execution_count": 21,
     "metadata": {},
     "output_type": "execute_result"
    }
   ],
   "execution_count": 21
  },
  {
   "metadata": {
    "ExecuteTime": {
     "end_time": "2024-08-22T22:43:09.380225Z",
     "start_time": "2024-08-22T22:43:09.375906Z"
    }
   },
   "cell_type": "code",
   "source": "forward_price_foreign_currency(1.50, 1.00, 0.06, 0.04, 6/12)",
   "id": "28a32de07e009f00",
   "outputs": [
    {
     "data": {
      "text/plain": [
       "1.5147058823529411"
      ]
     },
     "execution_count": 25,
     "metadata": {},
     "output_type": "execute_result"
    }
   ],
   "execution_count": 25
  },
  {
   "metadata": {
    "ExecuteTime": {
     "end_time": "2024-08-25T13:51:37.688889Z",
     "start_time": "2024-08-25T13:51:37.684230Z"
    }
   },
   "cell_type": "code",
   "source": "implied_interest_rate_stock_or_future_option(69.50, np.array([0.66]), 67.00, 8/12)",
   "id": "e8d14e9f765ff111",
   "outputs": [
    {
     "data": {
      "text/plain": [
       "0.07075"
      ]
     },
     "execution_count": 13,
     "metadata": {},
     "output_type": "execute_result"
    }
   ],
   "execution_count": 13
  },
  {
   "metadata": {
    "ExecuteTime": {
     "end_time": "2024-08-25T13:51:41.083848Z",
     "start_time": "2024-08-25T13:51:41.079523Z"
    }
   },
   "cell_type": "code",
   "source": "implied_dividend_stock_or_future_option(67.00, 0.06, 8/12, 69.50)",
   "id": "4fc90e7e512d2e84",
   "outputs": [
    {
     "data": {
      "text/plain": [
       "0.18"
      ]
     },
     "execution_count": 14,
     "metadata": {},
     "output_type": "execute_result"
    }
   ],
   "execution_count": 14
  },
  {
   "metadata": {},
   "cell_type": "markdown",
   "source": "# CHAPTER 3: Expiration Profit and Loss",
   "id": "dcaa23a47eec36e6"
  },
  {
   "metadata": {
    "ExecuteTime": {
     "end_time": "2024-08-26T11:10:37.391912Z",
     "start_time": "2024-08-26T11:10:37.387494Z"
    }
   },
   "cell_type": "code",
   "source": [
    "def intrinsic_values_call_options(spot_prices, strike_price):\n",
    "    \"\"\"\n",
    "    Calculate the intrinsic values of a call option for a series of spot prices using optimized numpy operations.\n",
    "\n",
    "    Parameters:\n",
    "    spot_prices (np.array): Array of stock spot prices.\n",
    "    strike_price (float): Option strike price.\n",
    "\n",
    "    Returns:\n",
    "    np.array: Array of intrinsic values for each spot price.\n",
    "    \"\"\"\n",
    "    # Calculate the difference between spot prices and strike price\n",
    "    intrinsic_values = spot_prices - strike_price\n",
    "\n",
    "    # Use numpy's maximum function to apply the max(0, S - X) operation across the array\n",
    "    return np.maximum(intrinsic_values, 0)\n",
    "\n",
    "def intrinsic_values_put_options(spot_prices, strike_price):\n",
    "    \"\"\"\n",
    "    Calculate the intrinsic values of a put option for a series of spot prices using optimized numpy operations.\n",
    "\n",
    "    Parameters:\n",
    "    spot_prices (np.array): Array of stock spot prices.\n",
    "    strike_price (float): Option strike price.\n",
    "\n",
    "    Returns:\n",
    "    np.array: Array of intrinsic values for each spot price.\n",
    "    \"\"\"\n",
    "    # Calculate the difference between strike price and spot prices\n",
    "    intrinsic_values = strike_price - spot_prices\n",
    "\n",
    "    # Use numpy's maximum function to apply the max(0, X - S) operation across the array\n",
    "    return np.maximum(intrinsic_values, 0)"
   ],
   "id": "108107ac6fdac45d",
   "outputs": [],
   "execution_count": 4
  },
  {
   "metadata": {
    "ExecuteTime": {
     "end_time": "2024-08-26T10:31:28.939550Z",
     "start_time": "2024-08-26T10:31:28.934523Z"
    }
   },
   "cell_type": "code",
   "source": "intrinsic_values_call_options(np.array([80, 85, 90, 95, 100, 105, 110, 115, 120, 125]), 95)",
   "id": "e7e252d18a21dee8",
   "outputs": [
    {
     "data": {
      "text/plain": [
       "array([ 0,  0,  0,  0,  5, 10, 15, 20, 25, 30])"
      ]
     },
     "execution_count": 21,
     "metadata": {},
     "output_type": "execute_result"
    }
   ],
   "execution_count": 21
  },
  {
   "metadata": {
    "ExecuteTime": {
     "end_time": "2024-08-26T10:31:29.337342Z",
     "start_time": "2024-08-26T10:31:29.332040Z"
    }
   },
   "cell_type": "code",
   "source": "intrinsic_values_put_options(np.array([80, 85, 90, 95, 100, 105, 110, 115, 120, 125]), 110)",
   "id": "d45eefc6e7d0aa9e",
   "outputs": [
    {
     "data": {
      "text/plain": [
       "array([30, 25, 20, 15, 10,  5,  0,  0,  0,  0])"
      ]
     },
     "execution_count": 22,
     "metadata": {},
     "output_type": "execute_result"
    }
   ],
   "execution_count": 22
  },
  {
   "metadata": {},
   "cell_type": "markdown",
   "source": "## Figure 4-1 Plot Parity Graph for  Long Call",
   "id": "799039474fddf971"
  },
  {
   "metadata": {
    "ExecuteTime": {
     "end_time": "2024-08-26T11:17:09.150266Z",
     "start_time": "2024-08-26T11:17:09.145535Z"
    }
   },
   "cell_type": "code",
   "source": [
    "def plot_call_option_parity(spot_prices, strike_price):\n",
    "    \"\"\"\n",
    "    Plot the parity graph for a call option using seaborn.\n",
    "\n",
    "    Parameters:\n",
    "    spot_prices (np.array): Array of stock spot prices.\n",
    "    strike_price (float): Option strike price.\n",
    "    \n",
    "    Returns:\n",
    "    None: Displays the parity graph.\n",
    "    \"\"\"\n",
    "    # Calculate the intrinsic values using the optimized function\n",
    "    intrinsic_values = intrinsic_values_call_options(spot_prices, strike_price)\n",
    "\n",
    "    # Set up the seaborn style\n",
    "    sns.set(style=\"whitegrid\")\n",
    "\n",
    "    # Create the plot\n",
    "    plt.figure(figsize=(10, 6))\n",
    "\n",
    "    # Plot the intrinsic values\n",
    "    sns.lineplot(x=spot_prices, y=intrinsic_values, color=\"magenta\", label=\"Intrinsic Value\")\n",
    "\n",
    "    # Plot the red dashed vertical line at the strike price\n",
    "    plt.axvline(x=strike_price, color=\"orange\", linestyle=\"--\", label=f\"Strike Price = {strike_price}\")\n",
    "\n",
    "    # Draw the red line below the strike price (option has no value)\n",
    "    plt.plot([min(spot_prices), strike_price], [0, 0], color=\"magenta\", linewidth=2)\n",
    "\n",
    "    # Highlight the positive payoff region above the strike price\n",
    "    plt.fill_between(spot_prices, intrinsic_values, where=spot_prices >= strike_price, color=\"green\", alpha=0.3)\n",
    "\n",
    "    # Set labels and title\n",
    "    plt.xlabel(\"Underlying Price\")\n",
    "    plt.ylabel(\"Position Value\")\n",
    "    plt.title(\"Call Option Payoff Parity Graph\")\n",
    "    plt.legend()\n",
    "\n",
    "    # Show the plot\n",
    "    plt.show()"
   ],
   "id": "7d0042b95fe14d6",
   "outputs": [],
   "execution_count": 19
  },
  {
   "metadata": {
    "ExecuteTime": {
     "end_time": "2024-08-26T11:17:09.663724Z",
     "start_time": "2024-08-26T11:17:09.530884Z"
    }
   },
   "cell_type": "code",
   "source": [
    "# Example usage:\n",
    "spot_prices = np.array([80, 85, 90, 95, 100])\n",
    "strike_price = 90\n",
    "plot_call_option_parity(spot_prices, strike_price)\n"
   ],
   "id": "9190d30eac84021",
   "outputs": [
    {
     "data": {
      "text/plain": [
       "<Figure size 1000x600 with 1 Axes>"
      ],
      "image/png": "[encoded data removed]"
     },
     "metadata": {},
     "output_type": "display_data"
    }
   ],
   "execution_count": 20
  },
  {
   "metadata": {
    "ExecuteTime": {
     "end_time": "2024-08-26T11:14:14.774557Z",
     "start_time": "2024-08-26T11:14:14.771940Z"
    }
   },
   "cell_type": "code",
   "source": "",
   "id": "d997ee277a64d871",
   "outputs": [],
   "execution_count": 14
  },
  {
   "metadata": {},
   "cell_type": "code",
   "outputs": [],
   "execution_count": null,
   "source": "",
   "id": "608280534d5e77e6"
  }
 ],
 "metadata": {
  "kernelspec": {
   "display_name": "Python 3",
   "language": "python",
   "name": "python3"
  },
  "language_info": {
   "codemirror_mode": {
    "name": "ipython",
    "version": 2
   },
   "file_extension": ".py",
   "mimetype": "text/x-python",
   "name": "python",
   "nbconvert_exporter": "python",
   "pygments_lexer": "ipython2",
   "version": "2.7.6"
  }
 },
 "nbformat": 4,
 "nbformat_minor": 5
}
